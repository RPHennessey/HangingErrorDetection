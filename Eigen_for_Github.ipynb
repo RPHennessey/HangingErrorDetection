{
 "cells": [
  {
   "cell_type": "code",
   "execution_count": 51,
   "id": "6d118388-509e-4461-9fb1-aac6b68bfe4c",
   "metadata": {},
   "outputs": [],
   "source": [
    "import numpy as np \n",
    "#import pandas as pd \n",
    "import matplotlib.pyplot as plt\n",
    "from sklearn.svm import SVC\n",
    "from sklearn.model_selection import train_test_split\n",
    "from sklearn.decomposition import PCA\n",
    "#from sklearn.metrics import confusion_matrix, classification_report, accuracy_score\n",
    "from sklearn.metrics import accuracy_score\n",
    "from PIL import Image\n",
    "import os\n",
    "\n",
    "from sklearn.preprocessing import StandardScaler\n",
    "from time import time\n",
    "from sklearn.utils.fixes import loguniform\n",
    "from sklearn.model_selection import RandomizedSearchCV\n",
    "from sklearn.metrics import ConfusionMatrixDisplay"
   ]
  },
  {
   "cell_type": "code",
   "execution_count": 18,
   "id": "555d760c-b02a-4b5c-8600-99d63f0e20fe",
   "metadata": {},
   "outputs": [],
   "source": [
    "folder=\"\"\n",
    "imageType=\"\" # jpg or jpgCrop\n",
    "cropText=\"\"  # Crop or NoCrop\n",
    "modelName=\"\" #Shorten the Name A bit\n"
   ]
  },
  {
   "cell_type": "code",
   "execution_count": 19,
   "id": "b0ef8662-1355-4199-aacb-9b27659f1595",
   "metadata": {},
   "outputs": [
    {
     "name": "stdout",
     "output_type": "stream",
     "text": [
      "['FL_00', 'FL_00', 'FL_00']\n"
     ]
    }
   ],
   "source": [
    "folderTrain= folder + 'Train' + imageType\n",
    "X_train=[]\n",
    "y_train=[]\n",
    "imageSize=(224,224)\n",
    "for i in os.listdir(folderTrain):\n",
    "    X_train.append(np.array(Image.open(folderTrain+i).resize(imageSize)))\n",
    "    y_train.append(i[:5])\n",
    "X_train=np.array(X_train)[:,:,:,0].reshape(1008,224*224)\n",
    "print(y_train[:3])"
   ]
  },
  {
   "cell_type": "code",
   "execution_count": 20,
   "id": "22b2309e-4212-4f9a-8ab4-ef25f5b76382",
   "metadata": {},
   "outputs": [
    {
     "data": {
      "text/plain": [
       "(1008, 50176)"
      ]
     },
     "execution_count": 20,
     "metadata": {},
     "output_type": "execute_result"
    }
   ],
   "source": [
    "X_train.shape\n"
   ]
  },
  {
   "cell_type": "code",
   "execution_count": 21,
   "id": "3cbffc3e-7c96-48e0-8940-57b43eb230be",
   "metadata": {},
   "outputs": [],
   "source": [
    "X_train, X_val, y_train, y_val  = train_test_split(X_train,y_train,test_size = (208/1008),random_state=13,stratify=y_train)\n",
    "scaler = StandardScaler()\n",
    "X_train = scaler.fit_transform(X_train)\n",
    "X_val = scaler.transform(X_val)"
   ]
  },
  {
   "cell_type": "code",
   "execution_count": 22,
   "id": "8fd5d06f-f476-4caf-b03b-ed364e6eaead",
   "metadata": {},
   "outputs": [],
   "source": [
    "def plot_X(pixels):\n",
    "    fig, axes = plt.subplots(5, 5, figsize=(6, 6))\n",
    "    for i, ax in enumerate(axes.flat):\n",
    "        ax.imshow(np.array(pixels)[i].reshape(64, 64), cmap=\"gray\")\n",
    "    plt.show()"
   ]
  },
  {
   "cell_type": "code",
   "execution_count": 28,
   "id": "eda0f94b-872d-4268-84b9-55f5d460e759",
   "metadata": {},
   "outputs": [
    {
     "data": {
      "text/plain": [
       "[<matplotlib.lines.Line2D at 0x23f363929a0>]"
      ]
     },
     "execution_count": 28,
     "metadata": {},
     "output_type": "execute_result"
    },
    {
     "data": {
      "image/png": "[encoded data removed]",
      "text/plain": [
       "<Figure size 1296x504 with 1 Axes>"
      ]
     },
     "metadata": {
      "needs_background": "light"
     },
     "output_type": "display_data"
    }
   ],
   "source": [
    "pca = PCA().fit(X_train)\n",
    "plt.figure(figsize=(18, 7))\n",
    "plt.plot(pca.explained_variance_ratio_.cumsum(), lw=3)"
   ]
  },
  {
   "cell_type": "code",
   "execution_count": 29,
   "id": "e4ee9b8c-8fd1-4827-9678-e9a3394bb9dc",
   "metadata": {},
   "outputs": [
    {
     "name": "stdout",
     "output_type": "stream",
     "text": [
      "795\n",
      "(array([377, 378, 379, 380, 381, 382, 383, 384, 385, 386, 387, 388, 389,\n",
      "       390, 391, 392, 393, 394, 395, 396, 397, 398, 399, 400, 401, 402,\n",
      "       403, 404, 405, 406, 407, 408, 409, 410, 411, 412, 413, 414, 415,\n",
      "       416, 417, 418, 419, 420, 421, 422, 423, 424, 425, 426, 427, 428,\n",
      "       429, 430, 431, 432, 433, 434, 435, 436, 437, 438, 439, 440, 441,\n",
      "       442, 443, 444, 445, 446, 447, 448, 449, 450, 451, 452, 453, 454,\n",
      "       455, 456, 457, 458, 459, 460, 461, 462, 463, 464, 465, 466, 467,\n",
      "       468, 469, 470, 471, 472, 473, 474, 475, 476, 477, 478, 479, 480,\n",
      "       481, 482, 483, 484, 485, 486, 487, 488, 489, 490, 491, 492, 493,\n",
      "       494, 495, 496, 497, 498, 499, 500, 501, 502, 503, 504, 505, 506,\n",
      "       507, 508, 509, 510, 511, 512, 513, 514, 515, 516, 517, 518, 519,\n",
      "       520, 521, 522, 523, 524, 525, 526, 527, 528, 529, 530, 531, 532,\n",
      "       533, 534, 535, 536, 537, 538, 539, 540, 541, 542, 543, 544, 545,\n",
      "       546, 547, 548, 549, 550, 551, 552, 553, 554, 555, 556, 557, 558,\n",
      "       559, 560, 561, 562, 563, 564, 565, 566, 567, 568, 569, 570, 571,\n",
      "       572, 573, 574, 575, 576, 577, 578, 579, 580, 581, 582, 583, 584,\n",
      "       585, 586, 587, 588, 589, 590, 591, 592, 593, 594, 595, 596, 597,\n",
      "       598, 599, 600, 601, 602, 603, 604, 605, 606, 607, 608, 609, 610,\n",
      "       611, 612, 613, 614, 615, 616, 617, 618, 619, 620, 621, 622, 623,\n",
      "       624, 625, 626, 627, 628, 629, 630, 631, 632, 633, 634, 635, 636,\n",
      "       637, 638, 639, 640, 641, 642, 643, 644, 645, 646, 647, 648, 649,\n",
      "       650, 651, 652, 653, 654, 655, 656, 657, 658, 659, 660, 661, 662,\n",
      "       663, 664, 665, 666, 667, 668, 669, 670, 671, 672, 673, 674, 675,\n",
      "       676, 677, 678, 679, 680, 681, 682, 683, 684, 685, 686, 687, 688,\n",
      "       689, 690, 691, 692, 693, 694, 695, 696, 697, 698, 699, 700, 701,\n",
      "       702, 703, 704, 705, 706, 707, 708, 709, 710, 711, 712, 713, 714,\n",
      "       715, 716, 717, 718, 719, 720, 721, 722, 723, 724, 725, 726, 727,\n",
      "       728, 729, 730, 731, 732, 733, 734, 735, 736, 737, 738, 739, 740,\n",
      "       741, 742, 743, 744, 745, 746, 747, 748, 749, 750, 751, 752, 753,\n",
      "       754, 755, 756, 757, 758, 759, 760, 761, 762, 763, 764, 765, 766,\n",
      "       767, 768, 769, 770, 771, 772, 773, 774, 775, 776, 777, 778, 779,\n",
      "       780, 781, 782, 783, 784, 785, 786, 787, 788, 789, 790, 791, 792,\n",
      "       793, 794, 795, 796, 797, 798, 799], dtype=int64),)\n",
      "(array([0, 1], dtype=int64),)\n"
     ]
    }
   ],
   "source": [
    "print(len(np.where(pca.explained_variance_ratio_.cumsum() > 0.60)[0]))\n",
    "print(np.where(pca.explained_variance_ratio_.cumsum() > 0.95))\n",
    "print(np.where(pca.explained_variance_ratio_ > .06))"
   ]
  },
  {
   "cell_type": "code",
   "execution_count": 30,
   "id": "65b4c5c2-b359-42dd-8e20-6409eedf1914",
   "metadata": {},
   "outputs": [],
   "source": [
    "pca = PCA(n_components=370).fit(X_train)"
   ]
  },
  {
   "cell_type": "code",
   "execution_count": 31,
   "id": "e6f2b99e-b8d5-4679-a0b2-5a011991da1b",
   "metadata": {},
   "outputs": [],
   "source": [
    "target_names=['FL_00','FL_09','FL_18','FL_27','NF_00','NF_09','NF_18','NF_27']"
   ]
  },
  {
   "cell_type": "code",
   "execution_count": null,
   "id": "3fd009ab-3162-48a0-9501-94692e61f19c",
   "metadata": {},
   "outputs": [],
   "source": []
  },
  {
   "cell_type": "code",
   "execution_count": 35,
   "id": "2fe7dfd2-cfa3-4224-84d1-a96bea03de18",
   "metadata": {},
   "outputs": [],
   "source": [
    "def PCAEigen(min_components, max_components, step_value):\n",
    "    best_fit = [0,0,0,0]\n",
    "    for n_components in range(min_components, max_components,step_value):\n",
    "    \n",
    "        t0 = time()\n",
    "        pca = PCA(n_components=n_components, svd_solver=\"randomized\", whiten=True).fit(X_train)\n",
    "    \n",
    "        eigenfaces = pca.components_.reshape((n_components, 224, 224))\n",
    "\n",
    "    \n",
    "        t0 = time()\n",
    "        X_train_pca = pca.transform(X_train)\n",
    "        X_val_pca = pca.transform(X_val)\n",
    "        t0 = time()\n",
    "        param_grid = {\n",
    "            \"C\": loguniform(1e3, 1e4, 1e5),\n",
    "            \"gamma\": loguniform(1e-4, 1e-3, 1e-1),\n",
    "            \n",
    "            }\n",
    "        clf = RandomizedSearchCV(\n",
    "            SVC(kernel = \"rbf\", class_weight=\"balanced\"), param_grid, n_iter=10\n",
    "            )\n",
    "        clf = clf.fit(X_train_pca, y_train)\n",
    "        \n",
    "        \n",
    "\n",
    "       \n",
    "        t0 = time()\n",
    "        y_pred = clf.predict(X_val_pca)\n",
    "        if best_fit[-1] <  accuracy_score(y_val, y_pred):\n",
    "            best_fit=[n_components,clf.best_params_[\"C\"],clf.best_params_[\"gamma\"],accuracy_score(y_val, y_pred)]\n",
    "        print(n_components, clf.best_estimator_,  accuracy_score(y_val, y_pred))\n",
    "    return best_fit\n",
    "        #print(n_components, accuracy_score(y_val, y_pred))\n",
    "#ConfusionMatrixDisplay.from_estimator(\n",
    "#    clf, X_val_pca, y_val, display_labels=target_names, xticks_rotation=\"vertical\"\n",
    "#)\n",
    "#plt.tight_layout()\n",
    "#plt.show()"
   ]
  },
  {
   "cell_type": "code",
   "execution_count": 44,
   "id": "18c76182-480e-4cb1-b7c1-147aae780e08",
   "metadata": {},
   "outputs": [
    {
     "name": "stdout",
     "output_type": "stream",
     "text": [
      "50 SVC(C=102109.81540528264, class_weight='balanced', gamma=0.10058675974769693) 0.5576923076923077\n",
      "75 SVC(C=109112.3549492333, class_weight='balanced', gamma=0.1002221940300234) 0.5048076923076923\n",
      "100 SVC(C=101708.87774325634, class_weight='balanced', gamma=0.1005125738461669) 0.4951923076923077\n",
      "125 SVC(C=102416.1545574036, class_weight='balanced', gamma=0.10051747526161275) 0.46634615384615385\n",
      "150 SVC(C=103552.11080704496, class_weight='balanced', gamma=0.10024956376163298) 0.4326923076923077\n",
      "175 SVC(C=104961.45442683627, class_weight='balanced', gamma=0.10027152977484938) 0.40384615384615385\n"
     ]
    },
    {
     "data": {
      "text/plain": [
       "[50, 102109.81540528264, 0.10058675974769693, 0.5576923076923077]"
      ]
     },
     "execution_count": 44,
     "metadata": {},
     "output_type": "execute_result"
    }
   ],
   "source": [
    "PCAEigen(50,200,25)"
   ]
  },
  {
   "cell_type": "code",
   "execution_count": 45,
   "id": "c04e5255-6ba5-47b1-a893-67181212110e",
   "metadata": {},
   "outputs": [
    {
     "name": "stdout",
     "output_type": "stream",
     "text": [
      "35 SVC(C=101681.79996549872, class_weight='balanced', gamma=0.10015611518988891) 0.5625\n",
      "37 SVC(C=102308.86119902096, class_weight='balanced', gamma=0.10047386460074288) 0.5432692307692307\n",
      "39 SVC(C=103775.85358578824, class_weight='balanced', gamma=0.10032978099850123) 0.5528846153846154\n",
      "41 SVC(C=103453.3519467545, class_weight='balanced', gamma=0.10032087320602144) 0.5721153846153846\n",
      "43 SVC(C=104443.97053841417, class_weight='balanced', gamma=0.1001050666654367) 0.5721153846153846\n",
      "45 SVC(C=103739.31086129496, class_weight='balanced', gamma=0.10016065108443553) 0.5528846153846154\n",
      "47 SVC(C=101708.87109181771, class_weight='balanced', gamma=0.10064387632932575) 0.5625\n",
      "49 SVC(C=103236.51805228843, class_weight='balanced', gamma=0.10027211206155477) 0.5625\n",
      "51 SVC(C=103882.00837924777, class_weight='balanced', gamma=0.10082007737317672) 0.5432692307692307\n",
      "53 SVC(C=102666.07562707063, class_weight='balanced', gamma=0.10037735414254852) 0.5336538461538461\n",
      "55 SVC(C=101595.25726521197, class_weight='balanced', gamma=0.10012967442561926) 0.5240384615384616\n",
      "57 SVC(C=106161.90013203454, class_weight='balanced', gamma=0.10074810036044043) 0.5625\n",
      "59 SVC(C=102222.30753911054, class_weight='balanced', gamma=0.10054380039889455) 0.5192307692307693\n",
      "61 SVC(C=102112.97756147651, class_weight='balanced', gamma=0.10091111316389258) 0.5336538461538461\n",
      "63 SVC(C=102120.2759291915, class_weight='balanced', gamma=0.10039715292917) 0.5288461538461539\n"
     ]
    }
   ],
   "source": [
    "best=PCAEigen(35,65,2)"
   ]
  },
  {
   "cell_type": "code",
   "execution_count": 30,
   "id": "ea23334a-c20f-4320-9400-36e1a100ed13",
   "metadata": {},
   "outputs": [],
   "source": [
    "42 SVC(C=108033.85263333657, class_weight='balanced', gamma=0.10014523356270591) 0.5817307692307693"
   ]
  },
  {
   "cell_type": "code",
   "execution_count": 46,
   "id": "4e1930a4-363a-4106-ae3c-f9b6c0398cef",
   "metadata": {},
   "outputs": [
    {
     "name": "stdout",
     "output_type": "stream",
     "text": [
      "Extracting the top 41 eigenradiographs from 800 faces\n",
      "done in 3.354s\n",
      "Projecting the input data on the eigenfaces orthonormal basis\n",
      "done in 0.325s\n"
     ]
    }
   ],
   "source": [
    "n_components=best[0]\n",
    "print(\n",
    "    \"Extracting the top %d eigenradiographs from %d faces\" % (n_components, X_train.shape[0])\n",
    ")\n",
    "t0 = time()\n",
    "pca = PCA(n_components=n_components, svd_solver=\"randomized\", whiten=True).fit(X_train)\n",
    "print(\"done in %0.3fs\" % (time() - t0))\n",
    "\n",
    "eigenfaces = pca.components_.reshape((n_components, 224, 224))\n",
    "\n",
    "print(\"Projecting the input data on the eigenfaces orthonormal basis\")\n",
    "t0 = time()\n",
    "X_train_pca = pca.transform(X_train)\n",
    "X_val_pca = pca.transform(X_val)\n",
    "print(\"done in %0.3fs\" % (time() - t0))"
   ]
  },
  {
   "cell_type": "code",
   "execution_count": 47,
   "id": "3243dfb5-182b-44cc-b860-a25810fbca5d",
   "metadata": {},
   "outputs": [],
   "source": [
    "classifier = SVC(kernel = \"rbf\",C=best[1], gamma=best[2], class_weight=\"balanced\").fit(X_train_pca, y_train)\n",
    "        "
   ]
  },
  {
   "cell_type": "code",
   "execution_count": 48,
   "id": "c236c491-433c-4f19-b008-1c847217ee05",
   "metadata": {},
   "outputs": [],
   "source": [
    "folderTest= folder + 'Test' + imageType\n",
    "X_test=[]\n",
    "y_test=[]\n",
    "imageSize=(224,224)\n",
    "for i in os.listdir(folderTest):\n",
    "    X_test.append(np.array(Image.open(folderTest+i).resize(imageSize)))\n",
    "    y_test.append(i[:5])\n",
    "test_size=len(X_test)\n",
    "X_test=np.array(X_test)[:,:,:,0].reshape(test_size,224*224)\n",
    "X_test = scaler.transform(X_test)\n",
    "X_test_pca = pca.transform(X_test)\n"
   ]
  },
  {
   "cell_type": "code",
   "execution_count": 49,
   "id": "e62f09fe-8138-4b43-97ed-06a0a4040c60",
   "metadata": {},
   "outputs": [
    {
     "name": "stdout",
     "output_type": "stream",
     "text": [
      "240\n"
     ]
    }
   ],
   "source": [
    "print(test_size)"
   ]
  },
  {
   "cell_type": "code",
   "execution_count": 52,
   "id": "bc6edf29-ce3c-4d47-8b9e-cdd5c234411d",
   "metadata": {},
   "outputs": [
    {
     "name": "stdout",
     "output_type": "stream",
     "text": [
      "41 0.5166666666666667\n"
     ]
    },
    {
     "data": {
      "image/png": "[encoded data removed]",
      "text/plain": [
       "<Figure size 432x288 with 2 Axes>"
      ]
     },
     "metadata": {
      "needs_background": "light"
     },
     "output_type": "display_data"
    }
   ],
   "source": [
    "y_pred = classifier.predict(X_test_pca)\n",
    "print(n_components, accuracy_score(y_test, y_pred))\n",
    "ConfusionMatrixDisplay.from_estimator(\n",
    "    classifier, X_test_pca, y_test, display_labels=target_names, xticks_rotation=\"vertical\"\n",
    ")\n",
    "plt.tight_layout()\n",
    "plt.show()"
   ]
  },
  {
   "cell_type": "code",
   "execution_count": null,
   "id": "4b0cdc38-7c7b-45ba-affb-53fbdd530027",
   "metadata": {},
   "outputs": [],
   "source": []
  }
 ],
 "metadata": {
  "kernelspec": {
   "display_name": "Python 3 (ipykernel)",
   "language": "python",
   "name": "python3"
  },
  "language_info": {
   "codemirror_mode": {
    "name": "ipython",
    "version": 3
   },
   "file_extension": ".py",
   "mimetype": "text/x-python",
   "name": "python",
   "nbconvert_exporter": "python",
   "pygments_lexer": "ipython3",
   "version": "3.9.7"
  }
 },
 "nbformat": 4,
 "nbformat_minor": 5
}
