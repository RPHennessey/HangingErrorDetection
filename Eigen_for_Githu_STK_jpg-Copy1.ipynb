{
 "cells": [
  {
   "cell_type": "code",
   "execution_count": 1,
   "id": "6d118388-509e-4461-9fb1-aac6b68bfe4c",
   "metadata": {},
   "outputs": [],
   "source": [
    "import numpy as np \n",
    "import pandas as pd \n",
    "import matplotlib.pyplot as plt\n",
    "from sklearn.svm import SVC\n",
    "from sklearn.model_selection import train_test_split\n",
    "from sklearn.decomposition import PCA\n",
    "from sklearn.metrics import accuracy_score\n",
    "from PIL import Image\n",
    "import os\n",
    "\n",
    "from sklearn.preprocessing import StandardScaler\n",
    "from time import time\n",
    "from sklearn.utils.fixes import loguniform\n",
    "from sklearn.model_selection import RandomizedSearchCV\n",
    "from sklearn.metrics import ConfusionMatrixDisplay"
   ]
  },
  {
   "cell_type": "code",
   "execution_count": 2,
   "id": "555d760c-b02a-4b5c-8600-99d63f0e20fe",
   "metadata": {},
   "outputs": [],
   "source": [
    "folder=\"n",
    "imageType=\"\" # jpg or jpgCrop\n",
    "cropText=\"\"  # Crop or NoCrop\n",
    "modelName=\"\" #Shorten the Name A bit\n"
   ]
  },
  {
   "cell_type": "code",
   "execution_count": 3,
   "id": "b0ef8662-1355-4199-aacb-9b27659f1595",
   "metadata": {},
   "outputs": [
    {
     "name": "stdout",
     "output_type": "stream",
     "text": [
      "['FL_00', 'FL_00', 'FL_00']\n"
     ]
    }
   ],
   "source": [
    "folderTrain= folder + 'Train' + imageType\n",
    "X_train=[]\n",
    "y_train=[]\n",
    "imageSize=(224,224)\n",
    "for i in os.listdir(folderTrain):\n",
    "    X_train.append(np.array(Image.open(folderTrain+i).resize(imageSize)))\n",
    "    y_train.append(i[:5])\n",
    "X_train=np.array(X_train)[:,:,:,0].reshape(1008,224*224)\n",
    "print(y_train[:3])"
   ]
  },
  {
   "cell_type": "code",
   "execution_count": 4,
   "id": "22b2309e-4212-4f9a-8ab4-ef25f5b76382",
   "metadata": {},
   "outputs": [
    {
     "data": {
      "text/plain": [
       "(1008, 50176)"
      ]
     },
     "execution_count": 4,
     "metadata": {},
     "output_type": "execute_result"
    }
   ],
   "source": [
    "X_train.shape\n"
   ]
  },
  {
   "cell_type": "code",
   "execution_count": 5,
   "id": "3cbffc3e-7c96-48e0-8940-57b43eb230be",
   "metadata": {},
   "outputs": [],
   "source": [
    "X_train, X_val, y_train, y_val  = train_test_split(X_train,y_train,test_size = (208/1008),random_state=13,stratify=y_train)\n",
    "scaler = StandardScaler()\n",
    "X_train = scaler.fit_transform(X_train)\n",
    "X_val = scaler.transform(X_val)"
   ]
  },
  {
   "cell_type": "code",
   "execution_count": 6,
   "id": "3818a78b-7040-4105-99a9-8342eaf23013",
   "metadata": {},
   "outputs": [
    {
     "name": "stdout",
     "output_type": "stream",
     "text": [
      "['27', '27', '27', '00', '27']\n",
      "['NF', 'NF', 'NF', 'FL', 'NF']\n"
     ]
    }
   ],
   "source": [
    "y_train_r = [x[-2:] for x in y_train]\n",
    "y_train_f = [x[:2] for x in y_train]\n",
    "y_val_r = [x[-2:] for x in y_val]\n",
    "y_val_f = [x[:2] for x in y_val]\n",
    "print(y_val_r[:5])\n",
    "print(y_val_f[:5])"
   ]
  },
  {
   "cell_type": "code",
   "execution_count": 7,
   "id": "e6f2b99e-b8d5-4679-a0b2-5a011991da1b",
   "metadata": {},
   "outputs": [],
   "source": [
    "target_names=['FL_00','FL_09','FL_18','FL_27','NF_00','NF_09','NF_18','NF_27']"
   ]
  },
  {
   "cell_type": "code",
   "execution_count": 8,
   "id": "3fd009ab-3162-48a0-9501-94692e61f19c",
   "metadata": {},
   "outputs": [],
   "source": [
    "import copy\n",
    "def imageRotationCorrection(images,orientations):\n",
    "    images=copy.deepcopy(images)\n",
    "    for image in range(len(images)):\n",
    "        if orientations[image][-2:] != '00':\n",
    "            #print(f\"{keys[r]}, {cnt[keys[r]]}, {rot:<30}\")\n",
    "            if(orientations[image][-2:])==  '09':\n",
    "                images[image] = np.rot90(images[image])\n",
    "            elif(orientations[image][-2:])==  '18':\n",
    "                images[image]=np.rot90(images[image],k=2)\n",
    "            elif(orientations[image][-2:])==  '27':\n",
    "                images[image]=np.rot90(images[image],k=3)\n",
    "    return images"
   ]
  },
  {
   "cell_type": "code",
   "execution_count": 9,
   "id": "2fe7dfd2-cfa3-4224-84d1-a96bea03de18",
   "metadata": {},
   "outputs": [],
   "source": [
    "def PCAEigen(min_components, max_components, step_value, X_train, X_val, y_train, y_val):\n",
    "    best_fit = [0,0,0,0]\n",
    "    for n_components in range(min_components, max_components,step_value):\n",
    "    \n",
    "        t0 = time()\n",
    "        pca = PCA(n_components=n_components, svd_solver=\"randomized\", whiten=True).fit(X_train)\n",
    "    \n",
    "        eigenfaces = pca.components_.reshape((n_components, 224, 224))\n",
    "\n",
    "    \n",
    "        t0 = time()\n",
    "        X_train_pca = pca.transform(X_train)\n",
    "        X_val_pca = pca.transform(X_val)\n",
    "        t0 = time()\n",
    "        param_grid = {\n",
    "            \"C\": loguniform(1e3, 1e4, 1e5),\n",
    "            \"gamma\": loguniform(1e-4, 1e-3, 1e-1),\n",
    "            \n",
    "            }\n",
    "        clf = RandomizedSearchCV(\n",
    "            SVC(kernel = \"rbf\", class_weight=\"balanced\"), param_grid, n_iter=10\n",
    "            )\n",
    "        clf = clf.fit(X_train_pca, y_train)\n",
    "        \n",
    "        \n",
    "\n",
    "       \n",
    "        t0 = time()\n",
    "        y_pred = clf.predict(X_val_pca)\n",
    "        if best_fit[-1] <  accuracy_score(y_val, y_pred):\n",
    "            best_fit=[n_components,clf.best_params_[\"C\"],clf.best_params_[\"gamma\"],accuracy_score(y_val, y_pred)]\n",
    "        print(n_components, clf.best_estimator_,  accuracy_score(y_val, y_pred))\n",
    "    return best_fit\n",
    "        #print(n_components, accuracy_score(y_val, y_pred))\n",
    "#ConfusionMatrixDisplay.from_estimator(\n",
    "#    clf, X_val_pca, y_val, display_labels=target_names, xticks_rotation=\"vertical\"\n",
    "#)\n",
    "#plt.tight_layout()\n",
    "#plt.show()"
   ]
  },
  {
   "cell_type": "code",
   "execution_count": 10,
   "id": "18c76182-480e-4cb1-b7c1-147aae780e08",
   "metadata": {},
   "outputs": [
    {
     "name": "stdout",
     "output_type": "stream",
     "text": [
      "50 SVC(C=104357.87400957865, class_weight='balanced', gamma=0.10048505650452315) 0.8990384615384616\n",
      "75 SVC(C=105870.76237792481, class_weight='balanced', gamma=0.10062258787364671) 0.8701923076923077\n",
      "100 SVC(C=103591.54677192452, class_weight='balanced', gamma=0.10027564079257681) 0.7692307692307693\n",
      "125 SVC(C=103142.75193635192, class_weight='balanced', gamma=0.10060935558208771) 0.7211538461538461\n",
      "30 SVC(C=106089.0966216026, class_weight='balanced', gamma=0.1008395132011176) 0.9375\n",
      "32 SVC(C=102047.39545928781, class_weight='balanced', gamma=0.1003168791957864) 0.9471153846153846\n",
      "34 SVC(C=102289.99124908705, class_weight='balanced', gamma=0.10012301192773897) 0.9519230769230769\n",
      "36 SVC(C=102679.74055195203, class_weight='balanced', gamma=0.10087536807760879) 0.9423076923076923\n",
      "38 SVC(C=101303.67511293155, class_weight='balanced', gamma=0.10010481547088759) 0.9519230769230769\n",
      "40 SVC(C=102770.2904592885, class_weight='balanced', gamma=0.10018035663560815) 0.9278846153846154\n",
      "42 SVC(C=104692.05365098538, class_weight='balanced', gamma=0.10011089484433329) 0.9230769230769231\n",
      "44 SVC(C=108322.35052824457, class_weight='balanced', gamma=0.10017800111725586) 0.9230769230769231\n",
      "46 SVC(C=107658.6823177293, class_weight='balanced', gamma=0.1001262171364716) 0.9182692307692307\n",
      "48 SVC(C=109215.39153790177, class_weight='balanced', gamma=0.10011327150769031) 0.9134615384615384\n",
      "50 SVC(C=101895.84285184706, class_weight='balanced', gamma=0.10015656031657846) 0.8990384615384616\n",
      "52 SVC(C=101582.35372677317, class_weight='balanced', gamma=0.10011582269399) 0.9038461538461539\n",
      "54 SVC(C=105496.31775639234, class_weight='balanced', gamma=0.10010295981432661) 0.8990384615384616\n",
      "56 SVC(C=101968.65429151246, class_weight='balanced', gamma=0.10042083097252423) 0.9038461538461539\n",
      "58 SVC(C=102550.84007294425, class_weight='balanced', gamma=0.10021013740353778) 0.9038461538461539\n"
     ]
    }
   ],
   "source": [
    "min_start=50\n",
    "top_start=150\n",
    "\n",
    "mid_r = PCAEigen(min_start,top_start,25,X_train, X_val, y_train_r, y_val_r)[0]\n",
    "\n",
    "bot= mid_r - 15\n",
    "top= mid_r + 15\n",
    "\n",
    "if min_start==mid_r: \n",
    "    bot = mid_r-20\n",
    "    top = mid_r+10\n",
    "    \n",
    "best_r=PCAEigen(bot,top,2,X_train, X_val, y_train_r, y_val_r)"
   ]
  },
  {
   "cell_type": "code",
   "execution_count": 11,
   "id": "4e1930a4-363a-4106-ae3c-f9b6c0398cef",
   "metadata": {},
   "outputs": [
    {
     "name": "stdout",
     "output_type": "stream",
     "text": [
      "Extracting the top 34 eigenradiographs from 800 radiographs\n",
      "done in 2.472s\n",
      "Projecting the input data on the eigenradiographs orthonormal basis\n",
      "done in 0.246s\n"
     ]
    }
   ],
   "source": [
    "n_components=best_r[0]\n",
    "print(\n",
    "    \"Extracting the top %d eigenradiographs from %d radiographs\" % (n_components, X_train.shape[0])\n",
    ")\n",
    "t0 = time()\n",
    "pca_r = PCA(n_components=n_components, svd_solver=\"randomized\", whiten=True).fit(X_train)\n",
    "print(\"done in %0.3fs\" % (time() - t0))\n",
    "\n",
    "eigenfaces = pca_r.components_.reshape((n_components, 224, 224))\n",
    "\n",
    "print(\"Projecting the input data on the eigenradiographs orthonormal basis\")\n",
    "t0 = time()\n",
    "X_train_pca_r = pca_r.transform(X_train)\n",
    "X_val_pca_r = pca_r.transform(X_val)\n",
    "print(\"done in %0.3fs\" % (time() - t0))\n"
   ]
  },
  {
   "cell_type": "code",
   "execution_count": 12,
   "id": "3243dfb5-182b-44cc-b860-a25810fbca5d",
   "metadata": {},
   "outputs": [],
   "source": [
    "classifier_r = SVC(kernel = \"rbf\",C=best_r[1], gamma=best_r[2], class_weight=\"balanced\").fit(X_train_pca_r, y_train_r)\n",
    "        "
   ]
  },
  {
   "cell_type": "code",
   "execution_count": null,
   "id": "c04e5255-6ba5-47b1-a893-67181212110e",
   "metadata": {
    "tags": []
   },
   "outputs": [
    {
     "name": "stdout",
     "output_type": "stream",
     "text": [
      "50 SVC(C=101723.1060511849, class_weight='balanced', gamma=0.10014292843566418) 0.5913461538461539\n",
      "75 SVC(C=105229.01194945748, class_weight='balanced', gamma=0.1003525641857057) 0.6057692307692307\n",
      "100 SVC(C=102230.91847445742, class_weight='balanced', gamma=0.10041296166429814) 0.625\n",
      "125 SVC(C=108368.2271102692, class_weight='balanced', gamma=0.10012306133338923) 0.6105769230769231\n",
      "30 SVC(C=104142.39716493536, class_weight='balanced', gamma=0.10048658395883636) 0.5721153846153846\n",
      "32 SVC(C=101207.77583078943, class_weight='balanced', gamma=0.1009514552116489) 0.5913461538461539\n",
      "34 SVC(C=101102.94657765243, class_weight='balanced', gamma=0.10029717739857512) 0.5528846153846154\n",
      "36 SVC(C=103342.66406874724, class_weight='balanced', gamma=0.10026705759362604) 0.5625\n",
      "38 SVC(C=101385.42264027633, class_weight='balanced', gamma=0.10014636673306843) 0.5576923076923077\n",
      "40 SVC(C=104040.9600089575, class_weight='balanced', gamma=0.10029554106710925) 0.5673076923076923\n",
      "42 SVC(C=101028.80302806878, class_weight='balanced', gamma=0.10010884355304515) 0.625\n",
      "44 SVC(C=107315.43855273307, class_weight='balanced', gamma=0.10032488934807873) 0.6105769230769231\n",
      "46 SVC(C=107330.90074827465, class_weight='balanced', gamma=0.1009439720303708) 0.6201923076923077\n",
      "48 SVC(C=102336.00046022394, class_weight='balanced', gamma=0.10076605784771651) 0.5913461538461539\n",
      "50 SVC(C=109713.49729577216, class_weight='balanced', gamma=0.1004332022930814) 0.5721153846153846\n",
      "52 SVC(C=101560.7835514529, class_weight='balanced', gamma=0.10060673942742471) 0.5769230769230769\n",
      "54 SVC(C=105648.14140037778, class_weight='balanced', gamma=0.10013519168320158) 0.5721153846153846\n",
      "56 SVC(C=102719.30818548771, class_weight='balanced', gamma=0.10085643730658016) 0.6105769230769231\n",
      "58 SVC(C=101053.3815933957, class_weight='balanced', gamma=0.10047081377306534) 0.6009615384615384\n",
      "60 SVC(C=106992.55568264048, class_weight='balanced', gamma=0.1001082546354009) 0.5961538461538461\n",
      "62 SVC(C=101844.71330420679, class_weight='balanced', gamma=0.10048694768985883) 0.5961538461538461\n",
      "64 SVC(C=102044.7287284645, class_weight='balanced', gamma=0.10021888416451374) 0.5913461538461539\n",
      "66 SVC(C=106045.49393138592, class_weight='balanced', gamma=0.10015452705396562) 0.6153846153846154\n",
      "68 SVC(C=103302.32276282282, class_weight='balanced', gamma=0.100147619244927) 0.6105769230769231\n",
      "70 SVC(C=109668.31962431624, class_weight='balanced', gamma=0.10038708864367997) 0.6057692307692307\n",
      "72 SVC(C=102317.9580053637, class_weight='balanced', gamma=0.10025562177511832) 0.5913461538461539\n",
      "74 SVC(C=108333.82430601318, class_weight='balanced', gamma=0.1009167714497064) 0.5961538461538461\n",
      "76 SVC(C=103732.99671067999, class_weight='balanced', gamma=0.10055379933695267) 0.6153846153846154\n",
      "78 SVC(C=106661.98045406115, class_weight='balanced', gamma=0.10069359641353506) 0.6105769230769231\n",
      "80 SVC(C=104191.89135878817, class_weight='balanced', gamma=0.10065655971632799) 0.5913461538461539\n",
      "82 SVC(C=101199.23477798546, class_weight='balanced', gamma=0.10019381669664372) 0.6009615384615384\n",
      "84 SVC(C=102693.75856243884, class_weight='balanced', gamma=0.10038333607559001) 0.6105769230769231\n"
     ]
    }
   ],
   "source": [
    "min_start=50\n",
    "top_start=150\n",
    "\n",
    "mid_f = PCAEigen(min_start,top_start,25,X_train, X_val, y_train_f, y_val_f)[0]\n",
    "top= mid_f - 15\n",
    "top= mid_f + 15\n",
    "\n",
    "if min_start==mid_f:\n",
    "    bot = mid_f-20\n",
    "    top = mid_f+10\n",
    "    \n",
    "best_f=PCAEigen(bot,mid_f+15,2,X_train, X_val, y_train_f, y_val_f)"
   ]
  },
  {
   "cell_type": "code",
   "execution_count": null,
   "id": "92fbcd58-d15b-4894-a65e-f082f6dfc4a7",
   "metadata": {},
   "outputs": [],
   "source": [
    "n_components=best_f[0]\n",
    "print(\n",
    "    \"Extracting the top %d eigenradiographs from %d radiographs\" % (n_components, X_train.shape[0])\n",
    ")\n",
    "t0 = time()\n",
    "pca_f = PCA(n_components=n_components, svd_solver=\"randomized\", whiten=True).fit(X_train)\n",
    "print(\"done in %0.3fs\" % (time() - t0))\n",
    "\n",
    "eigenfaces = pca_f.components_.reshape((n_components, 224, 224))\n",
    "\n",
    "print(\"Projecting the input data on the eigenradiographs orthonormal basis\")\n",
    "t0 = time()\n",
    "X_train_pca_f = pca_f.transform(X_train)\n",
    "X_val_pca_f = pca_f.transform(X_val)\n",
    "print(\"done in %0.3fs\" % (time() - t0))\n"
   ]
  },
  {
   "cell_type": "code",
   "execution_count": null,
   "id": "6ffe5baa-37d8-460a-9bae-2e739a7c3331",
   "metadata": {},
   "outputs": [],
   "source": [
    "classifier_f = SVC(kernel = \"rbf\",C=best_f[1], gamma=best_f[2], class_weight=\"balanced\").fit(X_train_pca_f, y_train_f)"
   ]
  },
  {
   "cell_type": "code",
   "execution_count": null,
   "id": "c236c491-433c-4f19-b008-1c847217ee05",
   "metadata": {},
   "outputs": [],
   "source": [
    "folderTest= folder + 'Test' + imageType\n",
    "X_test=[]\n",
    "y_test=[]\n",
    "imageSize=(224,224)\n",
    "for i in os.listdir(folderTest):\n",
    "    X_test.append(np.array(Image.open(folderTest+i).resize(imageSize)))\n",
    "    y_test.append(i[:5])\n",
    "test_size=len(X_test)\n",
    "X_test=np.array(X_test)[:,:,:,0].reshape(test_size,224*224)\n",
    "X_test = scaler.transform(X_test)\n",
    "X_test_pca_r = pca_r.transform(X_test)\n",
    "\n",
    "X_test_pca_f = pca_f.transform(X_test)"
   ]
  },
  {
   "cell_type": "code",
   "execution_count": null,
   "id": "0811c23f-4eda-41fb-9c3c-2ed21c8bb5e2",
   "metadata": {},
   "outputs": [],
   "source": [
    "y_test_r = [x[-2:] for x in y_test]\n",
    "y_test_f = [x[:2] for x in y_test]"
   ]
  },
  {
   "cell_type": "code",
   "execution_count": null,
   "id": "e62f09fe-8138-4b43-97ed-06a0a4040c60",
   "metadata": {},
   "outputs": [],
   "source": [
    "print(test_size)"
   ]
  },
  {
   "cell_type": "code",
   "execution_count": null,
   "id": "0547dee3-59a5-48e2-9759-3e9447d24e68",
   "metadata": {},
   "outputs": [],
   "source": [
    "r_names=['00','09','18','27']\n",
    "f_names=['FL','NF']"
   ]
  },
  {
   "cell_type": "code",
   "execution_count": null,
   "id": "bc6edf29-ce3c-4d47-8b9e-cdd5c234411d",
   "metadata": {},
   "outputs": [],
   "source": [
    "y_pred_r = classifier_r.predict(X_test_pca_r)\n",
    "print(best_r[0], accuracy_score(y_test_r, y_pred_r))\n",
    "ConfusionMatrixDisplay.from_estimator(\n",
    "    classifier_r, X_test_pca_r, y_test_r, display_labels=r_names, xticks_rotation=\"vertical\"\n",
    ")\n",
    "plt.tight_layout()\n",
    "plt.show()"
   ]
  },
  {
   "cell_type": "code",
   "execution_count": null,
   "id": "8bc37621-b67c-4c59-abb2-6828c4e8daed",
   "metadata": {},
   "outputs": [],
   "source": []
  },
  {
   "cell_type": "code",
   "execution_count": null,
   "id": "0ad35244-d401-460a-858b-b9d2f98cd123",
   "metadata": {},
   "outputs": [],
   "source": [
    "y_pred_f = classifier_f.predict(X_test_pca_f)\n",
    "print(best_f[0], accuracy_score(y_test_f, y_pred_f))\n",
    "ConfusionMatrixDisplay.from_estimator(\n",
    "    classifier_f, X_test_pca_f, y_test_f, display_labels=f_names, xticks_rotation=\"vertical\"\n",
    ")\n",
    "plt.tight_layout()\n",
    "plt.show()"
   ]
  },
  {
   "cell_type": "code",
   "execution_count": null,
   "id": "4b0cdc38-7c7b-45ba-affb-53fbdd530027",
   "metadata": {},
   "outputs": [],
   "source": []
  },
  {
   "cell_type": "code",
   "execution_count": null,
   "id": "3a526c3c-9d0c-43d8-abb8-17b7ef9de139",
   "metadata": {},
   "outputs": [],
   "source": []
  }
 ],
 "metadata": {
  "kernelspec": {
   "display_name": "Python 3 (ipykernel)",
   "language": "python",
   "name": "python3"
  },
  "language_info": {
   "codemirror_mode": {
    "name": "ipython",
    "version": 3
   },
   "file_extension": ".py",
   "mimetype": "text/x-python",
   "name": "python",
   "nbconvert_exporter": "python",
   "pygments_lexer": "ipython3",
   "version": "3.9.7"
  }
 },
 "nbformat": 4,
 "nbformat_minor": 5
}
